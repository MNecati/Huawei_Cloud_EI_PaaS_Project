{
 "cells": [
  {
   "cell_type": "code",
   "execution_count": 22,
   "id": "670fcdf1",
   "metadata": {},
   "outputs": [],
   "source": [
    "import numpy as np\n",
    "import pandas as pd\n",
    "import matplotlib.pyplot as plt\n",
    "import seaborn as sns"
   ]
  },
  {
   "cell_type": "code",
   "execution_count": 23,
   "id": "64d03e32",
   "metadata": {},
   "outputs": [],
   "source": [
    "#Read the dataset from exel \n",
    "# If you are working on the cloud platform, you should replace the address here with the path on the cloud storage.\n",
    "dataframe=pd.read_excel(r\"C:\\Users\\pc\\OneDrive\\Masaüstü\\makine öğrenmesi\\streamlit frontent\\data\\Cilt_Kanseri.xlsx\")\n",
    "orjinaldataframe=pd.read_excel(r\"C:\\Users\\pc\\OneDrive\\Masaüstü\\makine öğrenmesi\\streamlit frontent\\data\\Cilt_Kanseri.xlsx\")"
   ]
  },
  {
   "cell_type": "code",
   "execution_count": 24,
   "id": "4b0287c7",
   "metadata": {},
   "outputs": [
    {
     "data": {
      "text/html": [
       "<div>\n",
       "<style scoped>\n",
       "    .dataframe tbody tr th:only-of-type {\n",
       "        vertical-align: middle;\n",
       "    }\n",
       "\n",
       "    .dataframe tbody tr th {\n",
       "        vertical-align: top;\n",
       "    }\n",
       "\n",
       "    .dataframe thead th {\n",
       "        text-align: right;\n",
       "    }\n",
       "</style>\n",
       "<table border=\"1\" class=\"dataframe\">\n",
       "  <thead>\n",
       "    <tr style=\"text-align: right;\">\n",
       "      <th></th>\n",
       "      <th>Cinsiyet</th>\n",
       "      <th>Kilo</th>\n",
       "      <th>Yaş</th>\n",
       "      <th>Genetik</th>\n",
       "      <th>SigaraKullanimi</th>\n",
       "      <th>KimyasalKullanimi</th>\n",
       "      <th>CiltTonu</th>\n",
       "      <th>BeslenmeŞekli</th>\n",
       "      <th>Alerji</th>\n",
       "      <th>UV Işını indeksi</th>\n",
       "      <th>RadyasyonOrani</th>\n",
       "      <th>YaraDurumu</th>\n",
       "      <th>YaraBoyutu</th>\n",
       "      <th>YaraRengi</th>\n",
       "      <th>YaraSayisi</th>\n",
       "      <th>Teşhis</th>\n",
       "    </tr>\n",
       "  </thead>\n",
       "  <tbody>\n",
       "    <tr>\n",
       "      <th>0</th>\n",
       "      <td>1</td>\n",
       "      <td>50</td>\n",
       "      <td>22</td>\n",
       "      <td>0</td>\n",
       "      <td>0</td>\n",
       "      <td>0.000000</td>\n",
       "      <td>beyaz</td>\n",
       "      <td>0</td>\n",
       "      <td>0</td>\n",
       "      <td>1</td>\n",
       "      <td>0.000000</td>\n",
       "      <td>0</td>\n",
       "      <td>0</td>\n",
       "      <td>yok</td>\n",
       "      <td>0</td>\n",
       "      <td>0</td>\n",
       "    </tr>\n",
       "    <tr>\n",
       "      <th>1</th>\n",
       "      <td>0</td>\n",
       "      <td>65</td>\n",
       "      <td>24</td>\n",
       "      <td>0</td>\n",
       "      <td>1</td>\n",
       "      <td>0.015625</td>\n",
       "      <td>pembe</td>\n",
       "      <td>1</td>\n",
       "      <td>1</td>\n",
       "      <td>1</td>\n",
       "      <td>0.000000</td>\n",
       "      <td>1</td>\n",
       "      <td>0</td>\n",
       "      <td>yok</td>\n",
       "      <td>0</td>\n",
       "      <td>0</td>\n",
       "    </tr>\n",
       "    <tr>\n",
       "      <th>2</th>\n",
       "      <td>1</td>\n",
       "      <td>85</td>\n",
       "      <td>64</td>\n",
       "      <td>1</td>\n",
       "      <td>0</td>\n",
       "      <td>0.031250</td>\n",
       "      <td>bej</td>\n",
       "      <td>0</td>\n",
       "      <td>0</td>\n",
       "      <td>2</td>\n",
       "      <td>0.000000</td>\n",
       "      <td>0</td>\n",
       "      <td>0</td>\n",
       "      <td>beyaz</td>\n",
       "      <td>0</td>\n",
       "      <td>0</td>\n",
       "    </tr>\n",
       "    <tr>\n",
       "      <th>3</th>\n",
       "      <td>1</td>\n",
       "      <td>47</td>\n",
       "      <td>46</td>\n",
       "      <td>0</td>\n",
       "      <td>0</td>\n",
       "      <td>0.031250</td>\n",
       "      <td>siyah</td>\n",
       "      <td>0</td>\n",
       "      <td>0</td>\n",
       "      <td>1</td>\n",
       "      <td>0.018182</td>\n",
       "      <td>0</td>\n",
       "      <td>0</td>\n",
       "      <td>yok</td>\n",
       "      <td>0</td>\n",
       "      <td>1</td>\n",
       "    </tr>\n",
       "    <tr>\n",
       "      <th>4</th>\n",
       "      <td>0</td>\n",
       "      <td>96</td>\n",
       "      <td>45</td>\n",
       "      <td>0</td>\n",
       "      <td>0</td>\n",
       "      <td>0.046875</td>\n",
       "      <td>kahve</td>\n",
       "      <td>0</td>\n",
       "      <td>1</td>\n",
       "      <td>1</td>\n",
       "      <td>0.072727</td>\n",
       "      <td>0</td>\n",
       "      <td>0</td>\n",
       "      <td>beyaz</td>\n",
       "      <td>0</td>\n",
       "      <td>0</td>\n",
       "    </tr>\n",
       "    <tr>\n",
       "      <th>5</th>\n",
       "      <td>0</td>\n",
       "      <td>85</td>\n",
       "      <td>44</td>\n",
       "      <td>0</td>\n",
       "      <td>1</td>\n",
       "      <td>0.046875</td>\n",
       "      <td>beyaz</td>\n",
       "      <td>0</td>\n",
       "      <td>0</td>\n",
       "      <td>1</td>\n",
       "      <td>0.054545</td>\n",
       "      <td>1</td>\n",
       "      <td>1</td>\n",
       "      <td>pembe</td>\n",
       "      <td>0</td>\n",
       "      <td>0</td>\n",
       "    </tr>\n",
       "    <tr>\n",
       "      <th>6</th>\n",
       "      <td>1</td>\n",
       "      <td>76</td>\n",
       "      <td>35</td>\n",
       "      <td>1</td>\n",
       "      <td>0</td>\n",
       "      <td>0.062500</td>\n",
       "      <td>kahve</td>\n",
       "      <td>1</td>\n",
       "      <td>0</td>\n",
       "      <td>2</td>\n",
       "      <td>0.072727</td>\n",
       "      <td>0</td>\n",
       "      <td>0</td>\n",
       "      <td>yok</td>\n",
       "      <td>0</td>\n",
       "      <td>1</td>\n",
       "    </tr>\n",
       "    <tr>\n",
       "      <th>7</th>\n",
       "      <td>1</td>\n",
       "      <td>63</td>\n",
       "      <td>32</td>\n",
       "      <td>0</td>\n",
       "      <td>0</td>\n",
       "      <td>0.078125</td>\n",
       "      <td>siyah</td>\n",
       "      <td>0</td>\n",
       "      <td>1</td>\n",
       "      <td>1</td>\n",
       "      <td>0.090909</td>\n",
       "      <td>0</td>\n",
       "      <td>0</td>\n",
       "      <td>beyaz</td>\n",
       "      <td>0</td>\n",
       "      <td>0</td>\n",
       "    </tr>\n",
       "    <tr>\n",
       "      <th>8</th>\n",
       "      <td>1</td>\n",
       "      <td>59</td>\n",
       "      <td>26</td>\n",
       "      <td>0</td>\n",
       "      <td>0</td>\n",
       "      <td>0.109375</td>\n",
       "      <td>bej</td>\n",
       "      <td>0</td>\n",
       "      <td>0</td>\n",
       "      <td>1</td>\n",
       "      <td>0.090909</td>\n",
       "      <td>0</td>\n",
       "      <td>1</td>\n",
       "      <td>beyaz</td>\n",
       "      <td>2</td>\n",
       "      <td>0</td>\n",
       "    </tr>\n",
       "    <tr>\n",
       "      <th>9</th>\n",
       "      <td>0</td>\n",
       "      <td>64</td>\n",
       "      <td>33</td>\n",
       "      <td>0</td>\n",
       "      <td>0</td>\n",
       "      <td>0.125000</td>\n",
       "      <td>pembe</td>\n",
       "      <td>0</td>\n",
       "      <td>0</td>\n",
       "      <td>1</td>\n",
       "      <td>0.090909</td>\n",
       "      <td>1</td>\n",
       "      <td>0</td>\n",
       "      <td>yok</td>\n",
       "      <td>0</td>\n",
       "      <td>0</td>\n",
       "    </tr>\n",
       "  </tbody>\n",
       "</table>\n",
       "</div>"
      ],
      "text/plain": [
       "   Cinsiyet  Kilo  Yaş  Genetik  SigaraKullanimi  KimyasalKullanimi CiltTonu  \\\n",
       "0         1    50   22        0                0           0.000000    beyaz   \n",
       "1         0    65   24        0                1           0.015625    pembe   \n",
       "2         1    85   64        1                0           0.031250      bej   \n",
       "3         1    47   46        0                0           0.031250    siyah   \n",
       "4         0    96   45        0                0           0.046875    kahve   \n",
       "5         0    85   44        0                1           0.046875    beyaz   \n",
       "6         1    76   35        1                0           0.062500    kahve   \n",
       "7         1    63   32        0                0           0.078125    siyah   \n",
       "8         1    59   26        0                0           0.109375      bej   \n",
       "9         0    64   33        0                0           0.125000    pembe   \n",
       "\n",
       "   BeslenmeŞekli  Alerji  UV Işını indeksi  RadyasyonOrani  YaraDurumu  \\\n",
       "0              0       0                 1        0.000000           0   \n",
       "1              1       1                 1        0.000000           1   \n",
       "2              0       0                 2        0.000000           0   \n",
       "3              0       0                 1        0.018182           0   \n",
       "4              0       1                 1        0.072727           0   \n",
       "5              0       0                 1        0.054545           1   \n",
       "6              1       0                 2        0.072727           0   \n",
       "7              0       1                 1        0.090909           0   \n",
       "8              0       0                 1        0.090909           0   \n",
       "9              0       0                 1        0.090909           1   \n",
       "\n",
       "   YaraBoyutu YaraRengi  YaraSayisi  Teşhis  \n",
       "0           0       yok           0       0  \n",
       "1           0       yok           0       0  \n",
       "2           0     beyaz           0       0  \n",
       "3           0       yok           0       1  \n",
       "4           0     beyaz           0       0  \n",
       "5           1     pembe           0       0  \n",
       "6           0       yok           0       1  \n",
       "7           0     beyaz           0       0  \n",
       "8           1     beyaz           2       0  \n",
       "9           0       yok           0       0  "
      ]
     },
     "execution_count": 24,
     "metadata": {},
     "output_type": "execute_result"
    }
   ],
   "source": [
    "#Control the dataframe\n",
    "dataframe.head(10)"
   ]
  },
  {
   "cell_type": "code",
   "execution_count": 25,
   "id": "d462a20b",
   "metadata": {},
   "outputs": [
    {
     "data": {
      "text/plain": [
       "(100, 16)"
      ]
     },
     "execution_count": 25,
     "metadata": {},
     "output_type": "execute_result"
    }
   ],
   "source": [
    "dataframe.shape"
   ]
  },
  {
   "cell_type": "markdown",
   "id": "c2a69483",
   "metadata": {},
   "source": [
    "## EDA"
   ]
  },
  {
   "cell_type": "code",
   "execution_count": 26,
   "id": "d68adf1c",
   "metadata": {
    "scrolled": true
   },
   "outputs": [
    {
     "data": {
      "text/plain": [
       "beyaz    22\n",
       "bej      22\n",
       "siyah    20\n",
       "pembe    19\n",
       "kahve    17\n",
       "Name: CiltTonu, dtype: int64"
      ]
     },
     "execution_count": 26,
     "metadata": {},
     "output_type": "execute_result"
    }
   ],
   "source": [
    "dataframe[\"CiltTonu\"].value_counts()"
   ]
  },
  {
   "cell_type": "code",
   "execution_count": 27,
   "id": "756e6481",
   "metadata": {},
   "outputs": [
    {
     "data": {
      "text/plain": [
       "Cinsiyet             0\n",
       "Kilo                 0\n",
       "Yaş                  0\n",
       "Genetik              0\n",
       "SigaraKullanimi      0\n",
       "KimyasalKullanimi    0\n",
       "CiltTonu             0\n",
       "BeslenmeŞekli        0\n",
       "Alerji               0\n",
       "UV Işını indeksi     0\n",
       "RadyasyonOrani       0\n",
       "YaraDurumu           0\n",
       "YaraBoyutu           0\n",
       "YaraRengi            0\n",
       "YaraSayisi           0\n",
       "Teşhis               0\n",
       "dtype: int64"
      ]
     },
     "execution_count": 27,
     "metadata": {},
     "output_type": "execute_result"
    }
   ],
   "source": [
    "#Check the null values\n",
    "dataframe.isnull().sum()"
   ]
  },
  {
   "cell_type": "code",
   "execution_count": 28,
   "id": "797e28ba",
   "metadata": {
    "scrolled": true
   },
   "outputs": [
    {
     "data": {
      "text/html": [
       "<div>\n",
       "<style scoped>\n",
       "    .dataframe tbody tr th:only-of-type {\n",
       "        vertical-align: middle;\n",
       "    }\n",
       "\n",
       "    .dataframe tbody tr th {\n",
       "        vertical-align: top;\n",
       "    }\n",
       "\n",
       "    .dataframe thead th {\n",
       "        text-align: right;\n",
       "    }\n",
       "</style>\n",
       "<table border=\"1\" class=\"dataframe\">\n",
       "  <thead>\n",
       "    <tr style=\"text-align: right;\">\n",
       "      <th></th>\n",
       "      <th>Cinsiyet</th>\n",
       "      <th>Kilo</th>\n",
       "      <th>Yaş</th>\n",
       "      <th>Genetik</th>\n",
       "      <th>SigaraKullanimi</th>\n",
       "      <th>KimyasalKullanimi</th>\n",
       "      <th>BeslenmeŞekli</th>\n",
       "      <th>Alerji</th>\n",
       "      <th>UV Işını indeksi</th>\n",
       "      <th>RadyasyonOrani</th>\n",
       "      <th>YaraDurumu</th>\n",
       "      <th>YaraBoyutu</th>\n",
       "      <th>YaraSayisi</th>\n",
       "      <th>Teşhis</th>\n",
       "    </tr>\n",
       "  </thead>\n",
       "  <tbody>\n",
       "    <tr>\n",
       "      <th>count</th>\n",
       "      <td>100.000000</td>\n",
       "      <td>100.000000</td>\n",
       "      <td>100.00000</td>\n",
       "      <td>100.000000</td>\n",
       "      <td>100.000000</td>\n",
       "      <td>100.000000</td>\n",
       "      <td>100.000000</td>\n",
       "      <td>100.000000</td>\n",
       "      <td>100.000000</td>\n",
       "      <td>100.000000</td>\n",
       "      <td>100.000000</td>\n",
       "      <td>100.000000</td>\n",
       "      <td>100.000000</td>\n",
       "      <td>100.000000</td>\n",
       "    </tr>\n",
       "    <tr>\n",
       "      <th>mean</th>\n",
       "      <td>0.410000</td>\n",
       "      <td>75.000000</td>\n",
       "      <td>44.26000</td>\n",
       "      <td>0.510000</td>\n",
       "      <td>0.490000</td>\n",
       "      <td>0.552344</td>\n",
       "      <td>0.480000</td>\n",
       "      <td>0.530000</td>\n",
       "      <td>7.260000</td>\n",
       "      <td>0.525818</td>\n",
       "      <td>0.470000</td>\n",
       "      <td>4.100000</td>\n",
       "      <td>7.110000</td>\n",
       "      <td>0.540000</td>\n",
       "    </tr>\n",
       "    <tr>\n",
       "      <th>std</th>\n",
       "      <td>0.494311</td>\n",
       "      <td>15.807555</td>\n",
       "      <td>15.32188</td>\n",
       "      <td>0.502418</td>\n",
       "      <td>0.502418</td>\n",
       "      <td>0.268762</td>\n",
       "      <td>0.502117</td>\n",
       "      <td>0.501614</td>\n",
       "      <td>4.655007</td>\n",
       "      <td>0.292725</td>\n",
       "      <td>0.501614</td>\n",
       "      <td>3.195641</td>\n",
       "      <td>5.150061</td>\n",
       "      <td>0.500908</td>\n",
       "    </tr>\n",
       "    <tr>\n",
       "      <th>min</th>\n",
       "      <td>0.000000</td>\n",
       "      <td>43.000000</td>\n",
       "      <td>20.00000</td>\n",
       "      <td>0.000000</td>\n",
       "      <td>0.000000</td>\n",
       "      <td>0.000000</td>\n",
       "      <td>0.000000</td>\n",
       "      <td>0.000000</td>\n",
       "      <td>1.000000</td>\n",
       "      <td>0.000000</td>\n",
       "      <td>0.000000</td>\n",
       "      <td>0.000000</td>\n",
       "      <td>0.000000</td>\n",
       "      <td>0.000000</td>\n",
       "    </tr>\n",
       "    <tr>\n",
       "      <th>25%</th>\n",
       "      <td>0.000000</td>\n",
       "      <td>63.000000</td>\n",
       "      <td>31.75000</td>\n",
       "      <td>0.000000</td>\n",
       "      <td>0.000000</td>\n",
       "      <td>0.390625</td>\n",
       "      <td>0.000000</td>\n",
       "      <td>0.000000</td>\n",
       "      <td>3.000000</td>\n",
       "      <td>0.268182</td>\n",
       "      <td>0.000000</td>\n",
       "      <td>1.000000</td>\n",
       "      <td>2.000000</td>\n",
       "      <td>0.000000</td>\n",
       "    </tr>\n",
       "    <tr>\n",
       "      <th>50%</th>\n",
       "      <td>0.000000</td>\n",
       "      <td>74.000000</td>\n",
       "      <td>43.00000</td>\n",
       "      <td>1.000000</td>\n",
       "      <td>0.000000</td>\n",
       "      <td>0.593750</td>\n",
       "      <td>0.000000</td>\n",
       "      <td>1.000000</td>\n",
       "      <td>7.000000</td>\n",
       "      <td>0.545455</td>\n",
       "      <td>0.000000</td>\n",
       "      <td>4.000000</td>\n",
       "      <td>8.000000</td>\n",
       "      <td>1.000000</td>\n",
       "    </tr>\n",
       "    <tr>\n",
       "      <th>75%</th>\n",
       "      <td>1.000000</td>\n",
       "      <td>86.000000</td>\n",
       "      <td>57.25000</td>\n",
       "      <td>1.000000</td>\n",
       "      <td>1.000000</td>\n",
       "      <td>0.753906</td>\n",
       "      <td>1.000000</td>\n",
       "      <td>1.000000</td>\n",
       "      <td>11.000000</td>\n",
       "      <td>0.786364</td>\n",
       "      <td>1.000000</td>\n",
       "      <td>7.000000</td>\n",
       "      <td>12.000000</td>\n",
       "      <td>1.000000</td>\n",
       "    </tr>\n",
       "    <tr>\n",
       "      <th>max</th>\n",
       "      <td>1.000000</td>\n",
       "      <td>109.000000</td>\n",
       "      <td>75.00000</td>\n",
       "      <td>1.000000</td>\n",
       "      <td>1.000000</td>\n",
       "      <td>1.000000</td>\n",
       "      <td>1.000000</td>\n",
       "      <td>1.000000</td>\n",
       "      <td>16.000000</td>\n",
       "      <td>1.000000</td>\n",
       "      <td>1.000000</td>\n",
       "      <td>10.000000</td>\n",
       "      <td>15.000000</td>\n",
       "      <td>1.000000</td>\n",
       "    </tr>\n",
       "  </tbody>\n",
       "</table>\n",
       "</div>"
      ],
      "text/plain": [
       "         Cinsiyet        Kilo        Yaş     Genetik  SigaraKullanimi  \\\n",
       "count  100.000000  100.000000  100.00000  100.000000       100.000000   \n",
       "mean     0.410000   75.000000   44.26000    0.510000         0.490000   \n",
       "std      0.494311   15.807555   15.32188    0.502418         0.502418   \n",
       "min      0.000000   43.000000   20.00000    0.000000         0.000000   \n",
       "25%      0.000000   63.000000   31.75000    0.000000         0.000000   \n",
       "50%      0.000000   74.000000   43.00000    1.000000         0.000000   \n",
       "75%      1.000000   86.000000   57.25000    1.000000         1.000000   \n",
       "max      1.000000  109.000000   75.00000    1.000000         1.000000   \n",
       "\n",
       "       KimyasalKullanimi  BeslenmeŞekli      Alerji  UV Işını indeksi  \\\n",
       "count         100.000000     100.000000  100.000000        100.000000   \n",
       "mean            0.552344       0.480000    0.530000          7.260000   \n",
       "std             0.268762       0.502117    0.501614          4.655007   \n",
       "min             0.000000       0.000000    0.000000          1.000000   \n",
       "25%             0.390625       0.000000    0.000000          3.000000   \n",
       "50%             0.593750       0.000000    1.000000          7.000000   \n",
       "75%             0.753906       1.000000    1.000000         11.000000   \n",
       "max             1.000000       1.000000    1.000000         16.000000   \n",
       "\n",
       "       RadyasyonOrani  YaraDurumu  YaraBoyutu  YaraSayisi      Teşhis  \n",
       "count      100.000000  100.000000  100.000000  100.000000  100.000000  \n",
       "mean         0.525818    0.470000    4.100000    7.110000    0.540000  \n",
       "std          0.292725    0.501614    3.195641    5.150061    0.500908  \n",
       "min          0.000000    0.000000    0.000000    0.000000    0.000000  \n",
       "25%          0.268182    0.000000    1.000000    2.000000    0.000000  \n",
       "50%          0.545455    0.000000    4.000000    8.000000    1.000000  \n",
       "75%          0.786364    1.000000    7.000000   12.000000    1.000000  \n",
       "max          1.000000    1.000000   10.000000   15.000000    1.000000  "
      ]
     },
     "execution_count": 28,
     "metadata": {},
     "output_type": "execute_result"
    }
   ],
   "source": [
    "#Analysis the dataset\n",
    "dataframe.describe()"
   ]
  },
  {
   "cell_type": "code",
   "execution_count": 29,
   "id": "821c24f0",
   "metadata": {},
   "outputs": [],
   "source": [
    "#numerates the different labels in a categorical data column\n",
    "from sklearn.preprocessing import LabelEncoder\n",
    "lbe=LabelEncoder()"
   ]
  },
  {
   "cell_type": "code",
   "execution_count": 30,
   "id": "c06e3896",
   "metadata": {
    "scrolled": true
   },
   "outputs": [
    {
     "data": {
      "text/plain": [
       "array([4, 4, 0, 4, 0, 3, 4, 0, 0, 4, 3, 0, 0, 4, 0, 4, 0, 0, 4, 1, 1, 3,\n",
       "       3, 1, 3, 1, 1, 3, 1, 3, 1, 3, 1, 2, 1, 2, 1, 1, 2, 2, 1, 0, 0, 1,\n",
       "       2, 3, 3, 1, 2, 1, 1, 3, 0, 0, 1, 2, 3, 3, 3, 1, 0, 0, 1, 1, 3, 2,\n",
       "       3, 1, 1, 2, 1, 1, 3, 2, 1, 2, 0, 2, 1, 1, 3, 2, 2, 2, 2, 1, 3, 1,\n",
       "       1, 2, 3, 3, 2, 2, 2, 1, 1, 1, 2, 2])"
      ]
     },
     "execution_count": 30,
     "metadata": {},
     "output_type": "execute_result"
    }
   ],
   "source": [
    "#categorical data is converted to numeric value\n",
    "lbe.fit_transform(dataframe[\"YaraRengi\"])"
   ]
  },
  {
   "cell_type": "code",
   "execution_count": 31,
   "id": "70d4f016",
   "metadata": {},
   "outputs": [],
   "source": [
    "'''\n",
    "converted numbers lined up in columns;\n",
    "0= 'beyaz'\n",
    "1= 'kahve'\n",
    "2= 'kırmızı'\n",
    "3= 'pembe'\n",
    "4= 'yok'\n",
    "'''\n",
    "dataframe[\"YaraRengi\"]=lbe.fit_transform(dataframe[\"YaraRengi\"])"
   ]
  },
  {
   "cell_type": "code",
   "execution_count": 32,
   "id": "69a5dca8",
   "metadata": {},
   "outputs": [
    {
     "data": {
      "text/plain": [
       "array([1, 3, 0, 4, 2, 1, 2, 4, 0, 3, 0, 0, 1, 4, 1, 2, 0, 3, 3, 4, 1, 3,\n",
       "       0, 2, 0, 3, 1, 2, 4, 0, 1, 3, 1, 4, 2, 0, 3, 4, 1, 3, 0, 2, 4, 1,\n",
       "       1, 2, 0, 2, 2, 4, 4, 0, 3, 3, 2, 0, 1, 3, 4, 2, 4, 4, 0, 0, 3, 4,\n",
       "       1, 1, 2, 0, 3, 3, 2, 4, 1, 3, 2, 4, 1, 1, 0, 0, 1, 2, 4, 1, 0, 1,\n",
       "       3, 3, 4, 4, 1, 0, 0, 3, 1, 2, 4, 0])"
      ]
     },
     "execution_count": 32,
     "metadata": {},
     "output_type": "execute_result"
    }
   ],
   "source": [
    "#categorical data is converted to numeric value\n",
    "lbe.fit_transform(dataframe[\"CiltTonu\"])"
   ]
  },
  {
   "cell_type": "code",
   "execution_count": 33,
   "id": "e23e3d3f",
   "metadata": {},
   "outputs": [],
   "source": [
    "'''\n",
    "converted numbers lined up in columns;\n",
    "0= 'bej'\n",
    "1= 'beyaz'\n",
    "2= 'kahve'\n",
    "3= 'pembe'\n",
    "4= 'siyah'\n",
    "'''\n",
    "dataframe[\"CiltTonu\"]=lbe.fit_transform(dataframe[\"CiltTonu\"])"
   ]
  },
  {
   "cell_type": "code",
   "execution_count": 34,
   "id": "2e77aa3a",
   "metadata": {},
   "outputs": [
    {
     "data": {
      "text/html": [
       "<div>\n",
       "<style scoped>\n",
       "    .dataframe tbody tr th:only-of-type {\n",
       "        vertical-align: middle;\n",
       "    }\n",
       "\n",
       "    .dataframe tbody tr th {\n",
       "        vertical-align: top;\n",
       "    }\n",
       "\n",
       "    .dataframe thead th {\n",
       "        text-align: right;\n",
       "    }\n",
       "</style>\n",
       "<table border=\"1\" class=\"dataframe\">\n",
       "  <thead>\n",
       "    <tr style=\"text-align: right;\">\n",
       "      <th></th>\n",
       "      <th>Cinsiyet</th>\n",
       "      <th>Kilo</th>\n",
       "      <th>Yaş</th>\n",
       "      <th>Genetik</th>\n",
       "      <th>SigaraKullanimi</th>\n",
       "      <th>KimyasalKullanimi</th>\n",
       "      <th>CiltTonu</th>\n",
       "      <th>BeslenmeŞekli</th>\n",
       "      <th>Alerji</th>\n",
       "      <th>UV Işını indeksi</th>\n",
       "      <th>RadyasyonOrani</th>\n",
       "      <th>YaraDurumu</th>\n",
       "      <th>YaraBoyutu</th>\n",
       "      <th>YaraRengi</th>\n",
       "      <th>YaraSayisi</th>\n",
       "      <th>Teşhis</th>\n",
       "    </tr>\n",
       "  </thead>\n",
       "  <tbody>\n",
       "    <tr>\n",
       "      <th>0</th>\n",
       "      <td>1</td>\n",
       "      <td>50</td>\n",
       "      <td>22</td>\n",
       "      <td>0</td>\n",
       "      <td>0</td>\n",
       "      <td>0.000000</td>\n",
       "      <td>1</td>\n",
       "      <td>0</td>\n",
       "      <td>0</td>\n",
       "      <td>1</td>\n",
       "      <td>0.000000</td>\n",
       "      <td>0</td>\n",
       "      <td>0</td>\n",
       "      <td>4</td>\n",
       "      <td>0</td>\n",
       "      <td>0</td>\n",
       "    </tr>\n",
       "    <tr>\n",
       "      <th>1</th>\n",
       "      <td>0</td>\n",
       "      <td>65</td>\n",
       "      <td>24</td>\n",
       "      <td>0</td>\n",
       "      <td>1</td>\n",
       "      <td>0.015625</td>\n",
       "      <td>3</td>\n",
       "      <td>1</td>\n",
       "      <td>1</td>\n",
       "      <td>1</td>\n",
       "      <td>0.000000</td>\n",
       "      <td>1</td>\n",
       "      <td>0</td>\n",
       "      <td>4</td>\n",
       "      <td>0</td>\n",
       "      <td>0</td>\n",
       "    </tr>\n",
       "    <tr>\n",
       "      <th>2</th>\n",
       "      <td>1</td>\n",
       "      <td>85</td>\n",
       "      <td>64</td>\n",
       "      <td>1</td>\n",
       "      <td>0</td>\n",
       "      <td>0.031250</td>\n",
       "      <td>0</td>\n",
       "      <td>0</td>\n",
       "      <td>0</td>\n",
       "      <td>2</td>\n",
       "      <td>0.000000</td>\n",
       "      <td>0</td>\n",
       "      <td>0</td>\n",
       "      <td>0</td>\n",
       "      <td>0</td>\n",
       "      <td>0</td>\n",
       "    </tr>\n",
       "    <tr>\n",
       "      <th>3</th>\n",
       "      <td>1</td>\n",
       "      <td>47</td>\n",
       "      <td>46</td>\n",
       "      <td>0</td>\n",
       "      <td>0</td>\n",
       "      <td>0.031250</td>\n",
       "      <td>4</td>\n",
       "      <td>0</td>\n",
       "      <td>0</td>\n",
       "      <td>1</td>\n",
       "      <td>0.018182</td>\n",
       "      <td>0</td>\n",
       "      <td>0</td>\n",
       "      <td>4</td>\n",
       "      <td>0</td>\n",
       "      <td>1</td>\n",
       "    </tr>\n",
       "    <tr>\n",
       "      <th>4</th>\n",
       "      <td>0</td>\n",
       "      <td>96</td>\n",
       "      <td>45</td>\n",
       "      <td>0</td>\n",
       "      <td>0</td>\n",
       "      <td>0.046875</td>\n",
       "      <td>2</td>\n",
       "      <td>0</td>\n",
       "      <td>1</td>\n",
       "      <td>1</td>\n",
       "      <td>0.072727</td>\n",
       "      <td>0</td>\n",
       "      <td>0</td>\n",
       "      <td>0</td>\n",
       "      <td>0</td>\n",
       "      <td>0</td>\n",
       "    </tr>\n",
       "    <tr>\n",
       "      <th>5</th>\n",
       "      <td>0</td>\n",
       "      <td>85</td>\n",
       "      <td>44</td>\n",
       "      <td>0</td>\n",
       "      <td>1</td>\n",
       "      <td>0.046875</td>\n",
       "      <td>1</td>\n",
       "      <td>0</td>\n",
       "      <td>0</td>\n",
       "      <td>1</td>\n",
       "      <td>0.054545</td>\n",
       "      <td>1</td>\n",
       "      <td>1</td>\n",
       "      <td>3</td>\n",
       "      <td>0</td>\n",
       "      <td>0</td>\n",
       "    </tr>\n",
       "    <tr>\n",
       "      <th>6</th>\n",
       "      <td>1</td>\n",
       "      <td>76</td>\n",
       "      <td>35</td>\n",
       "      <td>1</td>\n",
       "      <td>0</td>\n",
       "      <td>0.062500</td>\n",
       "      <td>2</td>\n",
       "      <td>1</td>\n",
       "      <td>0</td>\n",
       "      <td>2</td>\n",
       "      <td>0.072727</td>\n",
       "      <td>0</td>\n",
       "      <td>0</td>\n",
       "      <td>4</td>\n",
       "      <td>0</td>\n",
       "      <td>1</td>\n",
       "    </tr>\n",
       "    <tr>\n",
       "      <th>7</th>\n",
       "      <td>1</td>\n",
       "      <td>63</td>\n",
       "      <td>32</td>\n",
       "      <td>0</td>\n",
       "      <td>0</td>\n",
       "      <td>0.078125</td>\n",
       "      <td>4</td>\n",
       "      <td>0</td>\n",
       "      <td>1</td>\n",
       "      <td>1</td>\n",
       "      <td>0.090909</td>\n",
       "      <td>0</td>\n",
       "      <td>0</td>\n",
       "      <td>0</td>\n",
       "      <td>0</td>\n",
       "      <td>0</td>\n",
       "    </tr>\n",
       "    <tr>\n",
       "      <th>8</th>\n",
       "      <td>1</td>\n",
       "      <td>59</td>\n",
       "      <td>26</td>\n",
       "      <td>0</td>\n",
       "      <td>0</td>\n",
       "      <td>0.109375</td>\n",
       "      <td>0</td>\n",
       "      <td>0</td>\n",
       "      <td>0</td>\n",
       "      <td>1</td>\n",
       "      <td>0.090909</td>\n",
       "      <td>0</td>\n",
       "      <td>1</td>\n",
       "      <td>0</td>\n",
       "      <td>2</td>\n",
       "      <td>0</td>\n",
       "    </tr>\n",
       "    <tr>\n",
       "      <th>9</th>\n",
       "      <td>0</td>\n",
       "      <td>64</td>\n",
       "      <td>33</td>\n",
       "      <td>0</td>\n",
       "      <td>0</td>\n",
       "      <td>0.125000</td>\n",
       "      <td>3</td>\n",
       "      <td>0</td>\n",
       "      <td>0</td>\n",
       "      <td>1</td>\n",
       "      <td>0.090909</td>\n",
       "      <td>1</td>\n",
       "      <td>0</td>\n",
       "      <td>4</td>\n",
       "      <td>0</td>\n",
       "      <td>0</td>\n",
       "    </tr>\n",
       "  </tbody>\n",
       "</table>\n",
       "</div>"
      ],
      "text/plain": [
       "   Cinsiyet  Kilo  Yaş  Genetik  SigaraKullanimi  KimyasalKullanimi  CiltTonu  \\\n",
       "0         1    50   22        0                0           0.000000         1   \n",
       "1         0    65   24        0                1           0.015625         3   \n",
       "2         1    85   64        1                0           0.031250         0   \n",
       "3         1    47   46        0                0           0.031250         4   \n",
       "4         0    96   45        0                0           0.046875         2   \n",
       "5         0    85   44        0                1           0.046875         1   \n",
       "6         1    76   35        1                0           0.062500         2   \n",
       "7         1    63   32        0                0           0.078125         4   \n",
       "8         1    59   26        0                0           0.109375         0   \n",
       "9         0    64   33        0                0           0.125000         3   \n",
       "\n",
       "   BeslenmeŞekli  Alerji  UV Işını indeksi  RadyasyonOrani  YaraDurumu  \\\n",
       "0              0       0                 1        0.000000           0   \n",
       "1              1       1                 1        0.000000           1   \n",
       "2              0       0                 2        0.000000           0   \n",
       "3              0       0                 1        0.018182           0   \n",
       "4              0       1                 1        0.072727           0   \n",
       "5              0       0                 1        0.054545           1   \n",
       "6              1       0                 2        0.072727           0   \n",
       "7              0       1                 1        0.090909           0   \n",
       "8              0       0                 1        0.090909           0   \n",
       "9              0       0                 1        0.090909           1   \n",
       "\n",
       "   YaraBoyutu  YaraRengi  YaraSayisi  Teşhis  \n",
       "0           0          4           0       0  \n",
       "1           0          4           0       0  \n",
       "2           0          0           0       0  \n",
       "3           0          4           0       1  \n",
       "4           0          0           0       0  \n",
       "5           1          3           0       0  \n",
       "6           0          4           0       1  \n",
       "7           0          0           0       0  \n",
       "8           1          0           2       0  \n",
       "9           0          4           0       0  "
      ]
     },
     "execution_count": 34,
     "metadata": {},
     "output_type": "execute_result"
    }
   ],
   "source": [
    "#Control the dataframe\n",
    "dataframe.head(10)"
   ]
  },
  {
   "cell_type": "code",
   "execution_count": 35,
   "id": "0ce0548b",
   "metadata": {},
   "outputs": [
    {
     "data": {
      "text/plain": [
       "Cinsiyet               int64\n",
       "Kilo                   int64\n",
       "Yaş                    int64\n",
       "Genetik                int64\n",
       "SigaraKullanimi        int64\n",
       "KimyasalKullanimi    float64\n",
       "CiltTonu               int32\n",
       "BeslenmeŞekli          int64\n",
       "Alerji                 int64\n",
       "UV Işını indeksi       int64\n",
       "RadyasyonOrani       float64\n",
       "YaraDurumu             int64\n",
       "YaraBoyutu             int64\n",
       "YaraRengi              int32\n",
       "YaraSayisi             int64\n",
       "Teşhis                 int64\n",
       "dtype: object"
      ]
     },
     "execution_count": 35,
     "metadata": {},
     "output_type": "execute_result"
    }
   ],
   "source": [
    "dataframe.dtypes"
   ]
  },
  {
   "cell_type": "code",
   "execution_count": 36,
   "id": "165ff06c",
   "metadata": {},
   "outputs": [
    {
     "data": {
      "text/plain": [
       "Index(['Cinsiyet', 'Kilo', 'Yaş', 'Genetik', 'SigaraKullanimi',\n",
       "       'KimyasalKullanimi', 'CiltTonu', 'BeslenmeŞekli', 'Alerji',\n",
       "       'UV Işını indeksi', 'RadyasyonOrani', 'YaraDurumu', 'YaraBoyutu',\n",
       "       'YaraRengi', 'YaraSayisi', 'Teşhis'],\n",
       "      dtype='object')"
      ]
     },
     "execution_count": 36,
     "metadata": {},
     "output_type": "execute_result"
    }
   ],
   "source": [
    "dataframe.columns"
   ]
  },
  {
   "cell_type": "code",
   "execution_count": 37,
   "id": "b1f88feb",
   "metadata": {},
   "outputs": [
    {
     "data": {
      "text/plain": [
       "<matplotlib.collections.PathCollection at 0x2192186e160>"
      ]
     },
     "execution_count": 37,
     "metadata": {},
     "output_type": "execute_result"
    },
    {
     "data": {
      "image/png": "[encoded data removed]",
      "text/plain": [
       "<Figure size 432x288 with 1 Axes>"
      ]
     },
     "metadata": {
      "needs_background": "light"
     },
     "output_type": "display_data"
    }
   ],
   "source": [
    "# Check the how effect UV Işını indeksi to Teşhis\n",
    "plt.scatter(x = dataframe[\"UV Işını indeksi\"], y= dataframe[\"Teşhis\"])"
   ]
  },
  {
   "cell_type": "code",
   "execution_count": 38,
   "id": "682580ee",
   "metadata": {},
   "outputs": [
    {
     "name": "stderr",
     "output_type": "stream",
     "text": [
      "e:\\Anaconda\\envs\\proje\\lib\\site-packages\\seaborn\\distributions.py:2619: FutureWarning: `distplot` is a deprecated function and will be removed in a future version. Please adapt your code to use either `displot` (a figure-level function with similar flexibility) or `histplot` (an axes-level function for histograms).\n",
      "  warnings.warn(msg, FutureWarning)\n"
     ]
    },
    {
     "data": {
      "text/plain": [
       "<AxesSubplot:xlabel='Teşhis', ylabel='Density'>"
      ]
     },
     "execution_count": 38,
     "metadata": {},
     "output_type": "execute_result"
    },
    {
     "data": {
      "image/png": "[encoded data removed]",
      "text/plain": [
       "<Figure size 432x288 with 1 Axes>"
      ]
     },
     "metadata": {
      "needs_background": "light"
     },
     "output_type": "display_data"
    }
   ],
   "source": [
    "#look at the density of the diagnosis\n",
    "sns.distplot(dataframe[\"Teşhis\"])"
   ]
  },
  {
   "cell_type": "markdown",
   "id": "f8b330ce",
   "metadata": {},
   "source": [
    "## Creating Model"
   ]
  },
  {
   "cell_type": "code",
   "execution_count": 39,
   "id": "5aaf4acd",
   "metadata": {},
   "outputs": [],
   "source": [
    "from sklearn.ensemble import RandomForestClassifier\n",
    "from sklearn import model_selection\n",
    "from sklearn.model_selection import train_test_split, cross_val_score, GridSearchCV\n",
    "from sklearn.metrics import accuracy_score,classification_report\n",
    "from sklearn.metrics import confusion_matrix\n",
    "from sklearn import svm\n",
    "from sklearn.metrics import accuracy_score"
   ]
  },
  {
   "cell_type": "code",
   "execution_count": 40,
   "id": "b60a58d9",
   "metadata": {},
   "outputs": [],
   "source": [
    "data = dataframe.copy()"
   ]
  },
  {
   "cell_type": "code",
   "execution_count": 41,
   "id": "9d96d34e",
   "metadata": {},
   "outputs": [],
   "source": [
    "y = data[\"Teşhis\"] #predictions\n",
    "x = data.drop([\"Teşhis\"], axis=1) #another values (without y)\n",
    "x_train,x_test, y_train, y_test = train_test_split(x,y,test_size=0.20,random_state=42)"
   ]
  },
  {
   "cell_type": "code",
   "execution_count": 42,
   "id": "63d072af",
   "metadata": {},
   "outputs": [
    {
     "name": "stdout",
     "output_type": "stream",
     "text": [
      "              precision    recall  f1-score   support\n",
      "\n",
      "           0       0.80      0.80      0.80        10\n",
      "           1       0.80      0.80      0.80        10\n",
      "\n",
      "    accuracy                           0.80        20\n",
      "   macro avg       0.80      0.80      0.80        20\n",
      "weighted avg       0.80      0.80      0.80        20\n",
      "\n"
     ]
    },
    {
     "data": {
      "image/png": "[encoded data removed]",
      "text/plain": [
       "<Figure size 432x288 with 1 Axes>"
      ]
     },
     "metadata": {
      "needs_background": "light"
     },
     "output_type": "display_data"
    }
   ],
   "source": [
    "rf_model=RandomForestClassifier().fit(x_train,y_train)\n",
    "y_pred_rf=rf_model.predict(x_test)\n",
    "rf_score= accuracy_score(y_pred_rf,y_test)\n",
    "cf_matrix_rf = confusion_matrix(y_pred_rf,y_test)\n",
    "sns.heatmap(cf_matrix_rf,annot=True,cbar=False, fmt= \"g\")\n",
    "plt.title(\"model doğruluğu: \" + str(rf_score))\n",
    "print(classification_report(y_pred_rf,y_test))"
   ]
  },
  {
   "cell_type": "code",
   "execution_count": 43,
   "id": "273549ad",
   "metadata": {
    "scrolled": true
   },
   "outputs": [
    {
     "data": {
      "text/plain": [
       "array([0.5 , 0.2 , 0.25, 0.65, 0.55])"
      ]
     },
     "execution_count": 43,
     "metadata": {},
     "output_type": "execute_result"
    }
   ],
   "source": [
    "cross_val_score(rf_model,x,y,cv=5)"
   ]
  },
  {
   "cell_type": "code",
   "execution_count": 44,
   "id": "7ef5d00e",
   "metadata": {
    "scrolled": true
   },
   "outputs": [
    {
     "data": {
      "text/plain": [
       "1.0"
      ]
     },
     "execution_count": 44,
     "metadata": {},
     "output_type": "execute_result"
    }
   ],
   "source": [
    "rf_model.score(x_train,y_train)"
   ]
  },
  {
   "cell_type": "code",
   "execution_count": 45,
   "id": "065e220b",
   "metadata": {
    "scrolled": true
   },
   "outputs": [
    {
     "data": {
      "text/plain": [
       "0.8"
      ]
     },
     "execution_count": 45,
     "metadata": {},
     "output_type": "execute_result"
    }
   ],
   "source": [
    "rf_model.score(x_test,y_test)"
   ]
  },
  {
   "cell_type": "code",
   "execution_count": 46,
   "id": "4d206ded",
   "metadata": {},
   "outputs": [],
   "source": [
    "import pickle"
   ]
  },
  {
   "cell_type": "code",
   "execution_count": 47,
   "id": "20b6f466",
   "metadata": {},
   "outputs": [],
   "source": [
    "classifier = svm.SVC(kernel='linear')"
   ]
  },
  {
   "cell_type": "code",
   "execution_count": 51,
   "id": "5b0c5700",
   "metadata": {},
   "outputs": [
    {
     "data": {
      "text/plain": [
       "SVC(kernel='linear')"
      ]
     },
     "execution_count": 51,
     "metadata": {},
     "output_type": "execute_result"
    }
   ],
   "source": [
    "classifier.fit(x_train, y_train)"
   ]
  },
  {
   "cell_type": "code",
   "execution_count": 54,
   "id": "aae5801e",
   "metadata": {},
   "outputs": [],
   "source": [
    "filename='trained_model.sav'\n",
    "pickle.dump(classifier,open(filename, 'wb'))"
   ]
  },
  {
   "cell_type": "code",
   "execution_count": 55,
   "id": "fa8cb675",
   "metadata": {},
   "outputs": [],
   "source": [
    "loaded_model = pickle.load(open('trained_model.sav', 'rb'))\n"
   ]
  },
  {
   "cell_type": "code",
   "execution_count": 56,
   "id": "623cf518",
   "metadata": {},
   "outputs": [
    {
     "name": "stdout",
     "output_type": "stream",
     "text": [
      "[0]\n",
      "The person is not skin cancer\n"
     ]
    },
    {
     "name": "stderr",
     "output_type": "stream",
     "text": [
      "e:\\Anaconda\\envs\\proje\\lib\\site-packages\\sklearn\\base.py:450: UserWarning: X does not have valid feature names, but SVC was fitted with feature names\n",
      "  warnings.warn(\n"
     ]
    }
   ],
   "source": [
    "input_data = (1,50,22,0,0,0,0,1,0,0,1,0,4,0,0)\n",
    "#changing the input data to numpy array\n",
    "input_data_as_numpy_array = np.asarray(input_data)\n",
    "\n",
    "#reshape the array as we are predicting for one instance\n",
    "input_data_reshaped = input_data_as_numpy_array.reshape(1,-1)\n",
    "\n",
    "prediction = loaded_model.predict(input_data_reshaped)\n",
    "\n",
    "print(prediction)\n",
    "\n",
    "if (prediction[0] == 0): print('The person is not skin cancer')\n",
    "else: print('The person is skin cancer')"
   ]
  }
 ],
 "metadata": {
  "kernelspec": {
   "display_name": "proje",
   "language": "python",
   "name": "python3"
  },
  "language_info": {
   "codemirror_mode": {
    "name": "ipython",
    "version": 3
   },
   "file_extension": ".py",
   "mimetype": "text/x-python",
   "name": "python",
   "nbconvert_exporter": "python",
   "pygments_lexer": "ipython3",
   "version": "3.9.7 (default, Sep 16 2021, 16:59:28) [MSC v.1916 64 bit (AMD64)]"
  },
  "vscode": {
   "interpreter": {
    "hash": "2a3686b74221ac55112e261109aac9cd776b297ab790a02c62a55ec598cf9f1e"
   }
  }
 },
 "nbformat": 4,
 "nbformat_minor": 5
}
